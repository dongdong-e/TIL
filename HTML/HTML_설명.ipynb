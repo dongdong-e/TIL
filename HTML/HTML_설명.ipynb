{
  "nbformat": 4,
  "nbformat_minor": 0,
  "metadata": {
    "colab": {
      "name": "HTML_설명",
      "version": "0.3.2",
      "provenance": [],
      "collapsed_sections": []
    },
    "kernelspec": {
      "name": "python3",
      "display_name": "Python 3"
    }
  },
  "cells": [
    {
      "cell_type": "markdown",
      "metadata": {
        "id": "Z4fCyGz1zUZG",
        "colab_type": "text"
      },
      "source": [
        "# **Static Web과 Dynamic Web**\n",
        "---"
      ]
    },
    {
      "cell_type": "markdown",
      "metadata": {
        "id": "kGSUcuG50JgJ",
        "colab_type": "text"
      },
      "source": [
        "1. **Static Web이란, 파일들을 주고 받는 형태의 웹페이지**\n",
        "2. **Dynamic Web이란, 단순한 파일만 주고 받는 것이 아닌 연산과 처리 결곽까지 표현하는 웹페이지**"
      ]
    },
    {
      "cell_type": "markdown",
      "metadata": {
        "id": "tS6WhCKL227s",
        "colab_type": "text"
      },
      "source": [
        "# **URL과 URI**\n",
        "---"
      ]
    },
    {
      "cell_type": "markdown",
      "metadata": {
        "id": "iT4ggdMU0K4h",
        "colab_type": "text"
      },
      "source": [
        "* **URL (Uniform Resource Locator)은?**\n",
        "    * 네트워크 상에서 자원이 어디 있는지를 알려주기 위한 고유 규약이다.\n",
        "    * 흔히 웹 사이트 주소로 알고 있지만, URL은 웹사이트 주소 뿐만 아니라 컴퓨터 네트워크상의 자원을 모두 나타낼 수 있다.\n",
        "<br></br>\n",
        "* **URI (Uniform Resource Identifier)는?**\n",
        "    *  인터넷에 있는 자원을 나타내는 유일한 주소이다. URI의 존재는 인터넷에서 요구되는 기본조건으로서 인터넷 프로토콜에 항상 붙어 다닌다."
      ]
    },
    {
      "cell_type": "markdown",
      "metadata": {
        "id": "NYZe9ZLp2mCi",
        "colab_type": "text"
      },
      "source": [
        "# **HTML (Hyper Text Markup Language)**\n",
        "   * **웹 페이지를 위한 지배적인 마크업 언어다. HTML은 제목, 단락, 목록 등과 같은 본문을 위한 구조적 의미를 나타내는 것뿐만 아니라 링크, 인용과 그 밖의 항목으로 구조적 문서를 만들 수 있는 방법을 제공한다. 그리고 이미지와 객체를 내장하고 대화형 양식을 생성하는 데 사용될 수 있다.**\n",
        "---"
      ]
    },
    {
      "cell_type": "markdown",
      "metadata": {
        "id": "Mrce5S_i3KcV",
        "colab_type": "text"
      },
      "source": [
        "1. **HTTP(HyperText Transfer Protocol)이란,** 클라이언트와 서버 사이에 이루어지는 요청/응답(request/response) 프로토콜이다. 예를 들면, 클라이언트인 웹 브라우저가 HTTP를 통하여 서버로부터 웹페이지나 그림 정보를 요청하면, 서버는 이 요청에 응답하여 필요한 정보를 해당 사용자에게 전달하게 된다. 이 정보가 모니터와 같은 출력 장치를 통해 사용자에게 나타나는 것이다.\n",
        "<br></br>\n",
        "2. **마크업 언어(markup)란,** 태그 등을 이용하여 문서나 데이터의 구조를 명기하는 언어의 한 가지이다. 태그는 원래 텍스트와는 별도로 원고의 교정부호와 주석을 표현하기 위한 것이였으나 용도가 점차 확장되어 문서의 구조를 표현하는 역할을 하게 되었다. 이러한 태그 방법의 체계를 마크업 언어라 한다. 일반적으로 데이터를 기술하는 정도로만 사용되기에 프로그래밍 언어와는 구별된다. "
      ]
    },
    {
      "cell_type": "markdown",
      "metadata": {
        "id": "pHtil8Ry38wJ",
        "colab_type": "text"
      },
      "source": [
        "## **HTML 문서의 기본 구조**"
      ]
    },
    {
      "cell_type": "markdown",
      "metadata": {
        "id": "3Opul4hT4921",
        "colab_type": "text"
      },
      "source": [
        "* **Tag**\n",
        "    * **요소(Element): HTML의 element는 태그와 내용(contents)로 구성되어 있다.**\n",
        "        * < h1 > 웹 문서 < /h1 >\n",
        "        * 태그는 대소문자 구별하지 않으나, 소문자로 작성해야 한다. 또한 요소간 중복도 가능하다.\n",
        "        \n",
        "    * **Sel-closing element**\n",
        "        * 닫는 태그가 없는 태그도 존재한다.\n",
        "        * < img src = \"url\"/ >\n",
        "    \n",
        "    * **속성(Attribute)**\n",
        "        * 태그에는 속성이 지정될 수 있다.\n",
        "        * < a href = \"https://google.com\"/ >\n",
        "        * id, class, style 속성은 태그와 상관없이 모두 사용 가능하다.\n",
        "<br></br>\n",
        "* **DOM 트리**\n",
        "    * **태그는 중첩되어 사용가능하며, 이때 다음과 같은 관게를 갖는다.**\n",
        "        * **html과 head는 부모 자식 관계이다.**\n",
        "    <br></br>\n",
        "    ![image](https://user-images.githubusercontent.com/42408554/58444092-689cd500-8131-11e9-9eb3-b696475e3c1e.png)\n",
        "<br></br>\n",
        "* **시맨틱 태그**\n",
        "    * **컨텐츠의 의미를 설명하는 태그로서, HTML5에 새롭게 추가된 시맨틱 태그가 있다.**\n",
        "    * **기계적인 검색 엔진은 어떠한 태그가 어떠한 기능을 하는지 분별할 수 없고 웹페이지에서 데이터를 효율적으로 추출할 수가 없다. 이를 해결하고자 만든것이 시멘특태그인데, 특정한 태그에 의미를 부여해서 웹페이지를 만드는 시도가 시작되었고 이를 시멘틱웹이라고 표현한다.**\n",
        "    <br></br>\n",
        "    ![image](https://user-images.githubusercontent.com/42408554/58444181-e19c2c80-8131-11e9-9d22-b8a92173b3e1.png)\n",
        "    <br></br>\n",
        "    ![image](https://user-images.githubusercontent.com/42408554/58444168-d34e1080-8131-11e9-99b2-6eef13b8e75d.png)"
      ]
    },
    {
      "cell_type": "code",
      "metadata": {
        "id": "X0mPfwtRA8c3",
        "colab_type": "code",
        "colab": {}
      },
      "source": [
        ""
      ],
      "execution_count": 0,
      "outputs": []
    }
  ]
}